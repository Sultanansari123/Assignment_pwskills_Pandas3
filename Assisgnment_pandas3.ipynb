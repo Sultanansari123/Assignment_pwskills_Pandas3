{
 "cells": [
  {
   "cell_type": "markdown",
   "id": "c5280ae8-f7e7-4d0c-aa68-0fffa9281a94",
   "metadata": {},
   "source": [
    "# Pandas-3"
   ]
  },
  {
   "cell_type": "markdown",
   "id": "6ad49ca7-d28e-43cd-8ce2-79770e56bc5e",
   "metadata": {},
   "source": [
    "# Ans1-"
   ]
  },
  {
   "cell_type": "code",
   "execution_count": 3,
   "id": "2d686247-b111-459b-a838-6fe416ff3bc5",
   "metadata": {},
   "outputs": [
    {
     "data": {
      "text/html": [
       "<div>\n",
       "<style scoped>\n",
       "    .dataframe tbody tr th:only-of-type {\n",
       "        vertical-align: middle;\n",
       "    }\n",
       "\n",
       "    .dataframe tbody tr th {\n",
       "        vertical-align: top;\n",
       "    }\n",
       "\n",
       "    .dataframe thead th {\n",
       "        text-align: right;\n",
       "    }\n",
       "</style>\n",
       "<table border=\"1\" class=\"dataframe\">\n",
       "  <thead>\n",
       "    <tr style=\"text-align: right;\">\n",
       "      <th></th>\n",
       "      <th>course_name</th>\n",
       "      <th>duration</th>\n",
       "    </tr>\n",
       "  </thead>\n",
       "  <tbody>\n",
       "    <tr>\n",
       "      <th>0</th>\n",
       "      <td>Data Science</td>\n",
       "      <td>2</td>\n",
       "    </tr>\n",
       "    <tr>\n",
       "      <th>1</th>\n",
       "      <td>Machine Learning</td>\n",
       "      <td>3</td>\n",
       "    </tr>\n",
       "    <tr>\n",
       "      <th>2</th>\n",
       "      <td>Big Data</td>\n",
       "      <td>6</td>\n",
       "    </tr>\n",
       "    <tr>\n",
       "      <th>3</th>\n",
       "      <td>Data Engineer</td>\n",
       "      <td>4</td>\n",
       "    </tr>\n",
       "  </tbody>\n",
       "</table>\n",
       "</div>"
      ],
      "text/plain": [
       "        course_name  duration\n",
       "0      Data Science         2\n",
       "1  Machine Learning         3\n",
       "2          Big Data         6\n",
       "3     Data Engineer         4"
      ]
     },
     "execution_count": 3,
     "metadata": {},
     "output_type": "execute_result"
    }
   ],
   "source": [
    "import pandas as pd\n",
    "\n",
    "course_name = [\"Data Science\", \"Machine Learning\", \"Big Data\", \"Data Engineer\"]\n",
    "\n",
    "duration =  [2,3,6,4]\n",
    "\n",
    "df = pd.DataFrame(data = {\"course_name\" : course_name, \"duration\" : duration})\n",
    "df"
   ]
  },
  {
   "cell_type": "code",
   "execution_count": 5,
   "id": "3ff03ca7-1b5e-4c4a-9931-6e5da61fdebd",
   "metadata": {},
   "outputs": [
    {
     "name": "stdout",
     "output_type": "stream",
     "text": [
      "course_name    Machine Learning\n",
      "duration                      3\n",
      "Name: 1, dtype: object\n"
     ]
    }
   ],
   "source": [
    "print(df.iloc[1])"
   ]
  },
  {
   "cell_type": "code",
   "execution_count": 8,
   "id": "51b2ee76-49cd-4742-b67d-ea792dc4a0df",
   "metadata": {},
   "outputs": [
    {
     "name": "stdout",
     "output_type": "stream",
     "text": [
      "['Machine Learning', 3]\n"
     ]
    }
   ],
   "source": [
    "print(list(df.loc[1]))"
   ]
  },
  {
   "cell_type": "markdown",
   "id": "6c79ac34-8e00-4c80-983c-f48d54237832",
   "metadata": {},
   "source": [
    "# Ans2"
   ]
  },
  {
   "cell_type": "markdown",
   "id": "e1a74019-e186-4f2a-9b88-811399a56eaa",
   "metadata": {},
   "source": [
    "-loc is label-based indexing, and iloc is integer-based indexing in pandas.DataFrame.\n",
    "\n",
    "Use loc when you want to access a group of rows and columns by labels."
   ]
  },
  {
   "cell_type": "markdown",
   "id": "cadf4a3b-9a37-42ef-bd4a-4dbf7d9c3f2e",
   "metadata": {},
   "source": [
    "Use iloc when you want to access a group of rows and columns by integer positions."
   ]
  },
  {
   "cell_type": "markdown",
   "id": "5e803ec1-c567-4108-aa82-378908c04b16",
   "metadata": {},
   "source": [
    "# Ans3-"
   ]
  },
  {
   "cell_type": "code",
   "execution_count": 19,
   "id": "ee01d52a-77da-4fd9-bf3c-30e1e263dfea",
   "metadata": {},
   "outputs": [
    {
     "data": {
      "text/html": [
       "<div>\n",
       "<style scoped>\n",
       "    .dataframe tbody tr th:only-of-type {\n",
       "        vertical-align: middle;\n",
       "    }\n",
       "\n",
       "    .dataframe tbody tr th {\n",
       "        vertical-align: top;\n",
       "    }\n",
       "\n",
       "    .dataframe thead th {\n",
       "        text-align: right;\n",
       "    }\n",
       "</style>\n",
       "<table border=\"1\" class=\"dataframe\">\n",
       "  <thead>\n",
       "    <tr style=\"text-align: right;\">\n",
       "      <th></th>\n",
       "      <th>course_name</th>\n",
       "      <th>duration</th>\n",
       "    </tr>\n",
       "  </thead>\n",
       "  <tbody>\n",
       "    <tr>\n",
       "      <th>3</th>\n",
       "      <td>Data Engineer</td>\n",
       "      <td>4</td>\n",
       "    </tr>\n",
       "    <tr>\n",
       "      <th>0</th>\n",
       "      <td>Data Science</td>\n",
       "      <td>2</td>\n",
       "    </tr>\n",
       "    <tr>\n",
       "      <th>1</th>\n",
       "      <td>Machine Learning</td>\n",
       "      <td>3</td>\n",
       "    </tr>\n",
       "    <tr>\n",
       "      <th>2</th>\n",
       "      <td>Big Data</td>\n",
       "      <td>6</td>\n",
       "    </tr>\n",
       "  </tbody>\n",
       "</table>\n",
       "</div>"
      ],
      "text/plain": [
       "        course_name  duration\n",
       "3     Data Engineer         4\n",
       "0      Data Science         2\n",
       "1  Machine Learning         3\n",
       "2          Big Data         6"
      ]
     },
     "execution_count": 19,
     "metadata": {},
     "output_type": "execute_result"
    }
   ],
   "source": [
    "new_df = df.reindex([3, 0, 1, 2])\n",
    "new_df"
   ]
  },
  {
   "cell_type": "code",
   "execution_count": 22,
   "id": "376ae21f-bb68-4711-bf96-9ba5baf530a5",
   "metadata": {},
   "outputs": [
    {
     "name": "stdout",
     "output_type": "stream",
     "text": [
      "course_name    Big Data\n",
      "duration              6\n",
      "Name: 2, dtype: object\n",
      "course_name    Machine Learning\n",
      "duration                      3\n",
      "Name: 1, dtype: object\n"
     ]
    }
   ],
   "source": [
    "print(new_df.loc[2])\n",
    "print(new_df.iloc[2])"
   ]
  },
  {
   "cell_type": "markdown",
   "id": "4538ad65-7763-4131-a610-2b7eb78edf53",
   "metadata": {},
   "source": [
    "# Ans4-"
   ]
  },
  {
   "cell_type": "code",
   "execution_count": 24,
   "id": "6007a123-332e-48b5-b865-3598ae71f0cc",
   "metadata": {},
   "outputs": [],
   "source": [
    "import pandas as pd\n",
    "\n",
    "import numpy as np\n",
    "\n",
    "columns = ['column_1', 'column_2', 'column_3', 'column_4', 'column_5', 'column_6']\n",
    "\n",
    "indices = [1,2,3,4,5,6]\n",
    "\n",
    "#Creating a dataframe:\n",
    "\n",
    "df1 = pd.DataFrame(np.random.rand(6,6), columns = columns, index = indices)"
   ]
  },
  {
   "cell_type": "code",
   "execution_count": 25,
   "id": "40605009-83c0-4865-8ae7-d80f403ce253",
   "metadata": {},
   "outputs": [
    {
     "data": {
      "text/html": [
       "<div>\n",
       "<style scoped>\n",
       "    .dataframe tbody tr th:only-of-type {\n",
       "        vertical-align: middle;\n",
       "    }\n",
       "\n",
       "    .dataframe tbody tr th {\n",
       "        vertical-align: top;\n",
       "    }\n",
       "\n",
       "    .dataframe thead th {\n",
       "        text-align: right;\n",
       "    }\n",
       "</style>\n",
       "<table border=\"1\" class=\"dataframe\">\n",
       "  <thead>\n",
       "    <tr style=\"text-align: right;\">\n",
       "      <th></th>\n",
       "      <th>column_1</th>\n",
       "      <th>column_2</th>\n",
       "      <th>column_3</th>\n",
       "      <th>column_4</th>\n",
       "      <th>column_5</th>\n",
       "      <th>column_6</th>\n",
       "    </tr>\n",
       "  </thead>\n",
       "  <tbody>\n",
       "    <tr>\n",
       "      <th>1</th>\n",
       "      <td>0.674828</td>\n",
       "      <td>0.296405</td>\n",
       "      <td>0.916083</td>\n",
       "      <td>0.895780</td>\n",
       "      <td>0.738452</td>\n",
       "      <td>0.389906</td>\n",
       "    </tr>\n",
       "    <tr>\n",
       "      <th>2</th>\n",
       "      <td>0.754094</td>\n",
       "      <td>0.771044</td>\n",
       "      <td>0.604792</td>\n",
       "      <td>0.344782</td>\n",
       "      <td>0.432261</td>\n",
       "      <td>0.059084</td>\n",
       "    </tr>\n",
       "    <tr>\n",
       "      <th>3</th>\n",
       "      <td>0.961924</td>\n",
       "      <td>0.460781</td>\n",
       "      <td>0.076458</td>\n",
       "      <td>0.982481</td>\n",
       "      <td>0.885275</td>\n",
       "      <td>0.019466</td>\n",
       "    </tr>\n",
       "    <tr>\n",
       "      <th>4</th>\n",
       "      <td>0.950518</td>\n",
       "      <td>0.679677</td>\n",
       "      <td>0.229157</td>\n",
       "      <td>0.305415</td>\n",
       "      <td>0.826537</td>\n",
       "      <td>0.847433</td>\n",
       "    </tr>\n",
       "    <tr>\n",
       "      <th>5</th>\n",
       "      <td>0.659438</td>\n",
       "      <td>0.795656</td>\n",
       "      <td>0.975465</td>\n",
       "      <td>0.851710</td>\n",
       "      <td>0.541877</td>\n",
       "      <td>0.801148</td>\n",
       "    </tr>\n",
       "    <tr>\n",
       "      <th>6</th>\n",
       "      <td>0.548527</td>\n",
       "      <td>0.827037</td>\n",
       "      <td>0.920204</td>\n",
       "      <td>0.136529</td>\n",
       "      <td>0.412568</td>\n",
       "      <td>0.678918</td>\n",
       "    </tr>\n",
       "  </tbody>\n",
       "</table>\n",
       "</div>"
      ],
      "text/plain": [
       "   column_1  column_2  column_3  column_4  column_5  column_6\n",
       "1  0.674828  0.296405  0.916083  0.895780  0.738452  0.389906\n",
       "2  0.754094  0.771044  0.604792  0.344782  0.432261  0.059084\n",
       "3  0.961924  0.460781  0.076458  0.982481  0.885275  0.019466\n",
       "4  0.950518  0.679677  0.229157  0.305415  0.826537  0.847433\n",
       "5  0.659438  0.795656  0.975465  0.851710  0.541877  0.801148\n",
       "6  0.548527  0.827037  0.920204  0.136529  0.412568  0.678918"
      ]
     },
     "execution_count": 25,
     "metadata": {},
     "output_type": "execute_result"
    }
   ],
   "source": [
    "df1"
   ]
  },
  {
   "cell_type": "code",
   "execution_count": 28,
   "id": "5b213489-f190-4814-8294-6983486bc648",
   "metadata": {},
   "outputs": [
    {
     "name": "stdout",
     "output_type": "stream",
     "text": [
      "Mean of each column:\n",
      "column_1    0.758221\n",
      "column_2    0.638433\n",
      "column_3    0.620360\n",
      "column_4    0.586116\n",
      "column_5    0.639495\n",
      "column_6    0.465992\n",
      "dtype: float64\n",
      "\n",
      "Standard deviation of 'column_2': 0.21359806497962608\n"
     ]
    }
   ],
   "source": [
    "# (i) Mean of each column\n",
    "mean_of_columns = df1.mean()\n",
    "\n",
    "# (ii) Standard deviation of 'column_2'\n",
    "std_dev_column_2 = df1['column_2'].std()\n",
    "\n",
    "print(\"Mean of each column:\")\n",
    "print(mean_of_columns)\n",
    "\n",
    "print(\"\\nStandard deviation of 'column_2':\",std_dev_column_2)\n"
   ]
  },
  {
   "cell_type": "markdown",
   "id": "545f23d7-44e3-4849-afbf-f5ca21966d35",
   "metadata": {},
   "source": [
    "# Ans5-"
   ]
  },
  {
   "cell_type": "code",
   "execution_count": 29,
   "id": "6b4b8dfa-c4cc-45a3-940f-caabe19d2c23",
   "metadata": {},
   "outputs": [
    {
     "data": {
      "text/html": [
       "<div>\n",
       "<style scoped>\n",
       "    .dataframe tbody tr th:only-of-type {\n",
       "        vertical-align: middle;\n",
       "    }\n",
       "\n",
       "    .dataframe tbody tr th {\n",
       "        vertical-align: top;\n",
       "    }\n",
       "\n",
       "    .dataframe thead th {\n",
       "        text-align: right;\n",
       "    }\n",
       "</style>\n",
       "<table border=\"1\" class=\"dataframe\">\n",
       "  <thead>\n",
       "    <tr style=\"text-align: right;\">\n",
       "      <th></th>\n",
       "      <th>column_1</th>\n",
       "      <th>column_2</th>\n",
       "      <th>column_3</th>\n",
       "      <th>column_4</th>\n",
       "      <th>column_5</th>\n",
       "      <th>column_6</th>\n",
       "    </tr>\n",
       "  </thead>\n",
       "  <tbody>\n",
       "    <tr>\n",
       "      <th>1</th>\n",
       "      <td>0.674828</td>\n",
       "      <td>0.296405</td>\n",
       "      <td>0.916083</td>\n",
       "      <td>0.895780</td>\n",
       "      <td>0.738452</td>\n",
       "      <td>0.389906</td>\n",
       "    </tr>\n",
       "    <tr>\n",
       "      <th>2</th>\n",
       "      <td>0.754094</td>\n",
       "      <td>your_string_data</td>\n",
       "      <td>0.604792</td>\n",
       "      <td>0.344782</td>\n",
       "      <td>0.432261</td>\n",
       "      <td>0.059084</td>\n",
       "    </tr>\n",
       "    <tr>\n",
       "      <th>3</th>\n",
       "      <td>0.961924</td>\n",
       "      <td>0.460781</td>\n",
       "      <td>0.076458</td>\n",
       "      <td>0.982481</td>\n",
       "      <td>0.885275</td>\n",
       "      <td>0.019466</td>\n",
       "    </tr>\n",
       "    <tr>\n",
       "      <th>4</th>\n",
       "      <td>0.950518</td>\n",
       "      <td>0.679677</td>\n",
       "      <td>0.229157</td>\n",
       "      <td>0.305415</td>\n",
       "      <td>0.826537</td>\n",
       "      <td>0.847433</td>\n",
       "    </tr>\n",
       "    <tr>\n",
       "      <th>5</th>\n",
       "      <td>0.659438</td>\n",
       "      <td>0.795656</td>\n",
       "      <td>0.975465</td>\n",
       "      <td>0.851710</td>\n",
       "      <td>0.541877</td>\n",
       "      <td>0.801148</td>\n",
       "    </tr>\n",
       "  </tbody>\n",
       "</table>\n",
       "</div>"
      ],
      "text/plain": [
       "   column_1          column_2  column_3  column_4  column_5  column_6\n",
       "1  0.674828          0.296405  0.916083  0.895780  0.738452  0.389906\n",
       "2  0.754094  your_string_data  0.604792  0.344782  0.432261  0.059084\n",
       "3  0.961924          0.460781  0.076458  0.982481  0.885275  0.019466\n",
       "4  0.950518          0.679677  0.229157  0.305415  0.826537  0.847433\n",
       "5  0.659438          0.795656  0.975465  0.851710  0.541877  0.801148"
      ]
     },
     "execution_count": 29,
     "metadata": {},
     "output_type": "execute_result"
    }
   ],
   "source": [
    "# Replace the data in the second row of 'column_2' with a string variable\n",
    "df1.loc[2, 'column_2'] = 'your_string_data'\n",
    "df1.head()"
   ]
  },
  {
   "cell_type": "code",
   "execution_count": 35,
   "id": "81a18868-6a81-4ebc-87b4-05f5b13d3caa",
   "metadata": {},
   "outputs": [
    {
     "name": "stdout",
     "output_type": "stream",
     "text": [
      "\n",
      "Error when calculating mean of 'column_2':\n",
      "DataError: No numeric types to aggregate and not find the mean value because these is the string values\n"
     ]
    }
   ],
   "source": [
    "# and mean calculation is not valid for non-numeric data.\n",
    "try:\n",
    "    mean_column_2 = df1['column_2'].mean()\n",
    "    # Print the updated DataFrame\n",
    "    print(df1)\n",
    "except TypeError:\n",
    "    # Print the error message\n",
    "    print(\"\\nError when calculating mean of 'column_2':\")\n",
    "    print(\"DataError: No numeric types to aggregate and not find the mean value because these is the string values\")"
   ]
  },
  {
   "cell_type": "markdown",
   "id": "95f8d4ca-0ed8-4370-a998-098809f44f37",
   "metadata": {},
   "source": [
    "# Ans6"
   ]
  },
  {
   "cell_type": "markdown",
   "id": "5d398747-890e-45fe-945e-455c7c1e4421",
   "metadata": {},
   "source": [
    "\n",
    "In pandas, a window function is a way to perform calculations on a specific subset of data defined by a window of consecutive rows."
   ]
  },
  {
   "cell_type": "markdown",
   "id": "6a9e0d14-0994-4e0a-ac04-496a74276c22",
   "metadata": {},
   "source": [
    "Rolling Function (rolling()):Calculates metrics over a specified window of consecutive data points."
   ]
  },
  {
   "cell_type": "raw",
   "id": "19a41dab-1618-4819-8933-d3291d7d6d21",
   "metadata": {},
   "source": [
    "Rolling Function (rolling()):\n",
    "\n",
    "Calculates metrics over a specified window of consecutive data points.\n",
    "Expanding Function (expanding()):\n",
    "\n",
    "Computes metrics over all data points from the start of the series up to the current point.\n",
    "Exponential Moving Average (ewm()):\n",
    "\n",
    "Calculates the exponentially weighted moving average, giving more weight to recent data points."
   ]
  },
  {
   "cell_type": "markdown",
   "id": "04d401e4-de81-4351-bd2b-58f613d3e9a5",
   "metadata": {},
   "source": [
    "# Ans7-"
   ]
  },
  {
   "cell_type": "code",
   "execution_count": 43,
   "id": "4b69d4cb-2821-4c74-b6fe-52f6b2419f21",
   "metadata": {},
   "outputs": [
    {
     "name": "stdout",
     "output_type": "stream",
     "text": [
      "Current Month and Year: December 2023\n"
     ]
    }
   ],
   "source": [
    "import pandas as pd\n",
    "\n",
    "# Get the current date and time\n",
    "current_datetime = pd.to_datetime('today')\n",
    "\n",
    "# Print the current month and year\n",
    "print(f\"Current Month and Year: {current_datetime.strftime('%B %Y')}\")"
   ]
  },
  {
   "cell_type": "markdown",
   "id": "3852c5b3-0903-4c35-adca-a233e68d8f56",
   "metadata": {},
   "source": [
    "# Ans8-"
   ]
  },
  {
   "cell_type": "code",
   "execution_count": 44,
   "id": "7ca1eb59-641c-4576-b299-59b8e75fefbd",
   "metadata": {},
   "outputs": [],
   "source": [
    "import pandas as pd\n",
    "\n",
    "# Function to calculate the difference between two dates\n",
    "def calculate_time_difference(start_date, end_date):\n",
    "    # Convert input strings to pandas datetime objects\n",
    "    start_datetime = pd.to_datetime(start_date)\n",
    "    end_datetime = pd.to_datetime(end_date)\n",
    "\n",
    "    # Calculate the time difference using Pandas timedelta\n",
    "    time_difference = end_datetime - start_datetime\n",
    "\n",
    "    # Extract days, hours, and minutes from the time difference\n",
    "    days = time_difference.days\n",
    "    hours, remainder = divmod(time_difference.seconds, 3600)\n",
    "    print(\"Remainder:\",remainder)\n",
    "    minutes = remainder // 60\n",
    "\n",
    "    return days, hours, minutes"
   ]
  },
  {
   "cell_type": "code",
   "execution_count": 46,
   "id": "12bf4a07-22a1-4e8e-92ac-1862ebcc2055",
   "metadata": {},
   "outputs": [
    {
     "name": "stdin",
     "output_type": "stream",
     "text": [
      "Enter the start date (YYYY-MM-DD):  2023-02-10\n",
      "Enter the end date (YYYY-MM-DD):  2024-01-14\n"
     ]
    },
    {
     "name": "stdout",
     "output_type": "stream",
     "text": [
      "Remainder: 0\n",
      "\n",
      "Time Difference: 338 days, 0 hours, 0 minutes.\n"
     ]
    }
   ],
   "source": [
    "# User input for two dates\n",
    "start_date_input = input(\"Enter the start date (YYYY-MM-DD): \")\n",
    "end_date_input = input(\"Enter the end date (YYYY-MM-DD): \")\n",
    "\n",
    "# Calculate and display the time difference\n",
    "try:\n",
    "    days_diff, hours_diff, minutes_diff = calculate_time_difference(start_date_input, end_date_input)\n",
    "    print(f\"\\nTime Difference: {days_diff} days, {hours_diff} hours, {minutes_diff} minutes.\")\n",
    "except ValueError:\n",
    "    print(\"Invalid date format. Please use the format YYYY-MM-DD.\")"
   ]
  },
  {
   "cell_type": "markdown",
   "id": "af0c3f27-1aa2-4855-bb17-483f79e50f9a",
   "metadata": {},
   "source": [
    "# Ans9-"
   ]
  },
  {
   "cell_type": "code",
   "execution_count": 47,
   "id": "22862214-d175-4fb8-a273-87db98f5674e",
   "metadata": {},
   "outputs": [
    {
     "name": "stdout",
     "output_type": "stream",
     "text": [
      "CSV file 'example.csv' created successfully.\n"
     ]
    }
   ],
   "source": [
    "import pandas as pd\n",
    "\n",
    "# Data to be written to the CSV file\n",
    "data = {\n",
    "    \"Name\": [\"Alice\", \"Bob\", \"Charlie\", \"David\", \"Eve\", \"Frank\"],\n",
    "    \"Category\": [\"High\", \"Low\", \"Medium\", \"High\", \"Low\", \"Medium\"],\n",
    "    \"Value\": [10, 5, 8, 12, 4, 9]\n",
    "}\n",
    "\n",
    "# File path to save the CSV file\n",
    "file_path = \"example.csv\"\n",
    "\n",
    "# Creating a DataFrame and writing to the CSV file\n",
    "df = pd.DataFrame(data)\n",
    "df.to_csv(file_path, index=False)\n",
    "\n",
    "print(f\"CSV file '{file_path}' created successfully.\")\n",
    "\n"
   ]
  },
  {
   "cell_type": "code",
   "execution_count": 48,
   "id": "610b977a-ec61-40e0-aa94-565543dd14e8",
   "metadata": {},
   "outputs": [
    {
     "name": "stdout",
     "output_type": "stream",
     "text": [
      "\n",
      "Sorted Data:\n",
      "      Name Category  Value\n",
      "1      Bob      Low      5\n",
      "4      Eve      Low      4\n",
      "2  Charlie   Medium      8\n",
      "5    Frank   Medium      9\n",
      "0    Alice     High     10\n",
      "3    David     High     12\n"
     ]
    }
   ],
   "source": [
    "# Save the CSV content to a file named \"data.csv\"\n",
    "\n",
    "# Example Python program\n",
    "import pandas as pd\n",
    "\n",
    "def convert_to_categorical(file_path, column_name, category_order):\n",
    "    try:\n",
    "        df = pd.read_csv(file_path)\n",
    "    except FileNotFoundError:\n",
    "        print(\"File not found. Please enter a valid file path.\")\n",
    "        return\n",
    "    except pd.errors.EmptyDataError:\n",
    "        print(\"The file is empty.\")\n",
    "        return\n",
    "\n",
    "    df[column_name] = pd.Categorical(df[column_name], categories=category_order, ordered=True)\n",
    "\n",
    "    sorted_data = df.sort_values(by=column_name)\n",
    "    print(\"\\nSorted Data:\")\n",
    "    print(sorted_data)\n",
    "\n",
    "# User input for file path, column name, and category order\n",
    "file_path = \"data.csv\"  # Replace with the actual file path\n",
    "column_name = \"Category\"\n",
    "category_order = [\"Low\", \"Medium\", \"High\"]\n",
    "\n",
    "# Call the function to convert and display the sorted data\n",
    "convert_to_categorical(file_path, column_name, category_order)\n"
   ]
  },
  {
   "cell_type": "code",
   "execution_count": 52,
   "id": "8f5b69ae-fbc4-4351-a9cc-f9ec51eb63b5",
   "metadata": {},
   "outputs": [
    {
     "name": "stdin",
     "output_type": "stream",
     "text": [
      "Enter the CSV file path:  data1.csv\n",
      "Enter the column name to convert to categorical:  category\n",
      "Enter the category order (comma-separated):  low,high,low,low,high,medium\n"
     ]
    },
    {
     "name": "stdout",
     "output_type": "stream",
     "text": [
      "The file is empty.\n"
     ]
    }
   ],
   "source": [
    "import pandas as pd\n",
    "\n",
    "# Function to convert a specified column to categorical and display sorted data\n",
    "def convert_to_categorical(file_path, column_name, category_order):\n",
    "    # Read the CSV file\n",
    "    try:\n",
    "        df = pd.read_csv(file_path)\n",
    "    except FileNotFoundError:\n",
    "        print(\"File not found. Please enter a valid file path.\")\n",
    "        return\n",
    "    except pd.errors.EmptyDataError:\n",
    "        print(\"The file is empty.\")\n",
    "        return\n",
    "\n",
    "    # Convert the specified column to categorical with specified order\n",
    "    df[column_name] = pd.Categorical(df[column_name], categories=category_order, ordered=True)\n",
    "\n",
    "    # Display the sorted data\n",
    "    sorted_data = df.sort_values(by=column_name)\n",
    "    print(\"\\nSorted Data:\")\n",
    "    print(sorted_data)\n",
    "\n",
    "# User input for file path, column name, and category order\n",
    "file_path = input(\"Enter the CSV file path: \")\n",
    "column_name = input(\"Enter the column name to convert to categorical: \")\n",
    "\n",
    "# Convert comma-separated input to a list for category order\n",
    "category_order = input(\"Enter the category order (comma-separated): \").split(',')\n",
    "\n",
    "# Call the function to convert and display the sorted data\n",
    "convert_to_categorical(file_path, column_name, category_order)\n",
    "\n"
   ]
  },
  {
   "cell_type": "markdown",
   "id": "f50e53c9-7926-41c2-9330-ac84ddb819b7",
   "metadata": {},
   "source": [
    "# Ans10-"
   ]
  },
  {
   "cell_type": "code",
   "execution_count": 53,
   "id": "1015debf-d1cb-42f1-a9d3-209d87f2f311",
   "metadata": {},
   "outputs": [
    {
     "name": "stdout",
     "output_type": "stream",
     "text": [
      "CSV file 'sales_data.csv' created successfully.\n"
     ]
    }
   ],
   "source": [
    "import pandas as pd\n",
    "\n",
    "# Sample sales data\n",
    "data = {\n",
    "    'Date': ['2023-01-01', '2023-01-01', '2023-01-01', '2023-01-02', '2023-01-02', '2023-01-02', '2023-01-03', '2023-01-03', '2023-01-03'],\n",
    "    'ProductCategory': ['Electronics', 'Clothing', 'Home', 'Electronics', 'Clothing', 'Home', 'Electronics', 'Clothing', 'Home'],\n",
    "    'Sales': [500, 300, 200, 600, 400, 250, 550, 350, 180]\n",
    "}\n",
    "\n",
    "# Create a DataFrame\n",
    "df = pd.DataFrame(data)\n",
    "\n",
    "# Save the DataFrame to a CSV file\n",
    "csv_file_path = 'sales_data.csv'\n",
    "df.to_csv(csv_file_path, index=False)\n",
    "\n",
    "print(f\"CSV file '{csv_file_path}' created successfully.\")\n"
   ]
  },
  {
   "cell_type": "code",
   "execution_count": 54,
   "id": "0273b1a6-361b-4d23-aea4-ea691ab66e0a",
   "metadata": {},
   "outputs": [
    {
     "data": {
      "text/html": [
       "<div>\n",
       "<style scoped>\n",
       "    .dataframe tbody tr th:only-of-type {\n",
       "        vertical-align: middle;\n",
       "    }\n",
       "\n",
       "    .dataframe tbody tr th {\n",
       "        vertical-align: top;\n",
       "    }\n",
       "\n",
       "    .dataframe thead th {\n",
       "        text-align: right;\n",
       "    }\n",
       "</style>\n",
       "<table border=\"1\" class=\"dataframe\">\n",
       "  <thead>\n",
       "    <tr style=\"text-align: right;\">\n",
       "      <th></th>\n",
       "      <th>Date</th>\n",
       "      <th>ProductCategory</th>\n",
       "      <th>Sales</th>\n",
       "    </tr>\n",
       "  </thead>\n",
       "  <tbody>\n",
       "    <tr>\n",
       "      <th>0</th>\n",
       "      <td>2023-01-01</td>\n",
       "      <td>Electronics</td>\n",
       "      <td>500</td>\n",
       "    </tr>\n",
       "    <tr>\n",
       "      <th>1</th>\n",
       "      <td>2023-01-01</td>\n",
       "      <td>Clothing</td>\n",
       "      <td>300</td>\n",
       "    </tr>\n",
       "    <tr>\n",
       "      <th>2</th>\n",
       "      <td>2023-01-01</td>\n",
       "      <td>Home</td>\n",
       "      <td>200</td>\n",
       "    </tr>\n",
       "    <tr>\n",
       "      <th>3</th>\n",
       "      <td>2023-01-02</td>\n",
       "      <td>Electronics</td>\n",
       "      <td>600</td>\n",
       "    </tr>\n",
       "    <tr>\n",
       "      <th>4</th>\n",
       "      <td>2023-01-02</td>\n",
       "      <td>Clothing</td>\n",
       "      <td>400</td>\n",
       "    </tr>\n",
       "  </tbody>\n",
       "</table>\n",
       "</div>"
      ],
      "text/plain": [
       "         Date ProductCategory  Sales\n",
       "0  2023-01-01     Electronics    500\n",
       "1  2023-01-01        Clothing    300\n",
       "2  2023-01-01            Home    200\n",
       "3  2023-01-02     Electronics    600\n",
       "4  2023-01-02        Clothing    400"
      ]
     },
     "execution_count": 54,
     "metadata": {},
     "output_type": "execute_result"
    }
   ],
   "source": [
    "df.head()"
   ]
  },
  {
   "cell_type": "code",
   "execution_count": 58,
   "id": "9ee0b7d2-3233-40b8-a39d-15f7621add51",
   "metadata": {},
   "outputs": [
    {
     "name": "stdin",
     "output_type": "stream",
     "text": [
      "Enter the CSV file path:  sales_data.csv\n"
     ]
    },
    {
     "data": {
      "image/png": "[encoded data removed]",
      "text/plain": [
       "<Figure size 1000x600 with 1 Axes>"
      ]
     },
     "metadata": {},
     "output_type": "display_data"
    }
   ],
   "source": [
    "import pandas as pd\n",
    "import matplotlib.pyplot as plt\n",
    "\n",
    "# Function to read CSV file and visualize sales data\n",
    "def visualize_sales_data(file_path):\n",
    "    try:\n",
    "        # Read the CSV file\n",
    "        df = pd.read_csv(file_path)\n",
    "\n",
    "        # Assuming the CSV file has columns 'Date', 'ProductCategory', and 'Sales'\n",
    "        # You may need to adjust these column names based on your actual CSV file structure\n",
    "\n",
    "        # Convert 'Date' column to datetime type\n",
    "        df['Date'] = pd.to_datetime(df['Date'])\n",
    "\n",
    "        # Pivot the data to get a DataFrame suitable for a stacked bar chart\n",
    "        pivot_df = df.pivot_table(index='Date', columns='ProductCategory', values='Sales', aggfunc='sum', fill_value=0)\n",
    "\n",
    "        # Create a stacked bar chart\n",
    "        pivot_df.plot(kind='bar', stacked=True, figsize=(10, 6))\n",
    "        plt.title('Sales Data by Product Category Over Time')\n",
    "        plt.xlabel('Date')\n",
    "        plt.ylabel('Sales')\n",
    "        plt.legend(title='Product Category', bbox_to_anchor=(1.05, 1), loc='upper left')\n",
    "        plt.show()\n",
    "\n",
    "    except FileNotFoundError:\n",
    "        print(\"File not found. Please enter a valid file path.\")\n",
    "    except pd.errors.EmptyDataError:\n",
    "        print(\"The file is empty.\")\n",
    "    except Exception as e:\n",
    "        print(f\"An error occurred: {e}\")\n",
    "\n",
    "# User input for file path\n",
    "file_path = input(\"Enter the CSV file path: \")\n",
    "\n",
    "# Call the function to visualize sales data\n",
    "visualize_sales_data(file_path)\n"
   ]
  },
  {
   "cell_type": "markdown",
   "id": "855e8df9-baf4-40dc-ba5d-0949381f60f2",
   "metadata": {},
   "source": [
    "# Ans11-"
   ]
  },
  {
   "cell_type": "code",
   "execution_count": 62,
   "id": "2c8b9d41-3818-450b-84c6-b5c377ff9a50",
   "metadata": {},
   "outputs": [
    {
     "name": "stdout",
     "output_type": "stream",
     "text": [
      "CSV file 'student_data.csv' created successfully.\n"
     ]
    },
    {
     "data": {
      "text/html": [
       "<div>\n",
       "<style scoped>\n",
       "    .dataframe tbody tr th:only-of-type {\n",
       "        vertical-align: middle;\n",
       "    }\n",
       "\n",
       "    .dataframe tbody tr th {\n",
       "        vertical-align: top;\n",
       "    }\n",
       "\n",
       "    .dataframe thead th {\n",
       "        text-align: right;\n",
       "    }\n",
       "</style>\n",
       "<table border=\"1\" class=\"dataframe\">\n",
       "  <thead>\n",
       "    <tr style=\"text-align: right;\">\n",
       "      <th></th>\n",
       "      <th>StudentID</th>\n",
       "      <th>Test Score</th>\n",
       "    </tr>\n",
       "  </thead>\n",
       "  <tbody>\n",
       "    <tr>\n",
       "      <th>0</th>\n",
       "      <td>1</td>\n",
       "      <td>85</td>\n",
       "    </tr>\n",
       "    <tr>\n",
       "      <th>1</th>\n",
       "      <td>2</td>\n",
       "      <td>90</td>\n",
       "    </tr>\n",
       "    <tr>\n",
       "      <th>2</th>\n",
       "      <td>3</td>\n",
       "      <td>82</td>\n",
       "    </tr>\n",
       "    <tr>\n",
       "      <th>3</th>\n",
       "      <td>4</td>\n",
       "      <td>78</td>\n",
       "    </tr>\n",
       "    <tr>\n",
       "      <th>4</th>\n",
       "      <td>5</td>\n",
       "      <td>85</td>\n",
       "    </tr>\n",
       "    <tr>\n",
       "      <th>5</th>\n",
       "      <td>6</td>\n",
       "      <td>90</td>\n",
       "    </tr>\n",
       "    <tr>\n",
       "      <th>6</th>\n",
       "      <td>7</td>\n",
       "      <td>78</td>\n",
       "    </tr>\n",
       "    <tr>\n",
       "      <th>7</th>\n",
       "      <td>8</td>\n",
       "      <td>82</td>\n",
       "    </tr>\n",
       "    <tr>\n",
       "      <th>8</th>\n",
       "      <td>9</td>\n",
       "      <td>85</td>\n",
       "    </tr>\n",
       "    <tr>\n",
       "      <th>9</th>\n",
       "      <td>10</td>\n",
       "      <td>90</td>\n",
       "    </tr>\n",
       "  </tbody>\n",
       "</table>\n",
       "</div>"
      ],
      "text/plain": [
       "   StudentID  Test Score\n",
       "0          1          85\n",
       "1          2          90\n",
       "2          3          82\n",
       "3          4          78\n",
       "4          5          85\n",
       "5          6          90\n",
       "6          7          78\n",
       "7          8          82\n",
       "8          9          85\n",
       "9         10          90"
      ]
     },
     "execution_count": 62,
     "metadata": {},
     "output_type": "execute_result"
    }
   ],
   "source": [
    "import pandas as pd\n",
    "from io import StringIO\n",
    "\n",
    "# CSV data as a string\n",
    "data ={\n",
    "    'StudentID':[1,2,3,4,5,6,7,8,9,10],\n",
    "    'Test Score':[85,90,82,78,85,90,78,82,85,90]\n",
    "}\n",
    "\n",
    "\n",
    "# Create a DataFrame\n",
    "df = pd.DataFrame(data)\n",
    "\n",
    "# Save the DataFrame to a CSV file\n",
    "csv_file_path = 'student_data.csv'\n",
    "df.to_csv(csv_file_path, index=False)\n",
    "\n",
    "print(f\"CSV file '{csv_file_path}' created successfully.\")\n",
    "df"
   ]
  },
  {
   "cell_type": "code",
   "execution_count": 63,
   "id": "fb82c1e4-fab8-4432-9504-f1ea87b4748e",
   "metadata": {},
   "outputs": [
    {
     "name": "stdin",
     "output_type": "stream",
     "text": [
      "Enter the file path of the CSV file containing the student data:  student_data.csv\n"
     ]
    },
    {
     "name": "stdout",
     "output_type": "stream",
     "text": [
      "\n",
      "Statistic  Value\n",
      "     Mean   84.5\n",
      "   Median   85.0\n",
      "     Mode 85, 90\n"
     ]
    }
   ],
   "source": [
    "import pandas as pd\n",
    "\n",
    "# Function to calculate mean, median, and mode of test scores\n",
    "def calculate_statistics(file_path):\n",
    "    try:\n",
    "        # Read the CSV file into a Pandas DataFrame\n",
    "        df = pd.read_csv(file_path)\n",
    "\n",
    "        # Calculate mean, median, and mode\n",
    "        mean_score = df['Test Score'].mean()\n",
    "        median_score = df['Test Score'].median()\n",
    "        mode_scores = df['Test Score'].mode()\n",
    "\n",
    "        # Display the results in a table\n",
    "        results_table = pd.DataFrame({\n",
    "            'Statistic': ['Mean', 'Median', 'Mode'],\n",
    "            'Value': [mean_score, median_score, ', '.join(map(str, mode_scores))]\n",
    "        })\n",
    "\n",
    "        print(\"\\n\" + results_table.to_string(index=False))\n",
    "\n",
    "    except FileNotFoundError:\n",
    "        print(\"File not found. Please enter a valid file path.\")\n",
    "    except pd.errors.EmptyDataError:\n",
    "        print(\"The file is empty.\")\n",
    "    except Exception as e:\n",
    "        print(f\"An error occurred: {e}\")\n",
    "\n",
    "# User input for file path\n",
    "file_path = input(\"Enter the file path of the CSV file containing the student data: \")\n",
    "\n",
    "# Call the function to calculate and display statistics\n",
    "calculate_statistics(file_path)\n"
   ]
  },
  {
   "cell_type": "code",
   "execution_count": null,
   "id": "7bb33b50-b4b8-427a-a056-b94f07e9766f",
   "metadata": {},
   "outputs": [],
   "source": []
  }
 ],
 "metadata": {
  "kernelspec": {
   "display_name": "Python 3 (ipykernel)",
   "language": "python",
   "name": "python3"
  },
  "language_info": {
   "codemirror_mode": {
    "name": "ipython",
    "version": 3
   },
   "file_extension": ".py",
   "mimetype": "text/x-python",
   "name": "python",
   "nbconvert_exporter": "python",
   "pygments_lexer": "ipython3",
   "version": "3.10.8"
  }
 },
 "nbformat": 4,
 "nbformat_minor": 5
}
